{
 "cells": [
  {
   "cell_type": "code",
   "execution_count": 3,
   "metadata": {},
   "outputs": [],
   "source": [
    "import math\n",
    "import pandas as pd\n",
    "from functools import reduce\n",
    "\n",
    "# Дата сет\n",
    "dataset = pd.read_csv('drinks.csv',\n",
    "                    names=['name','redactor','smartphone','wine','OS','drink',])\n",
    "dataset=dataset.drop('name',axis=1)\n",
    "df0 = dataset"
   ]
  },
  {
   "cell_type": "code",
   "execution_count": 4,
   "metadata": {},
   "outputs": [],
   "source": [
    "# Генерируется массив, содержащий строку из следующих компонентов: ключ (k) и значение (v).\n",
    "#cstr = lambda s:[k+\":\"+str(v) for k,v in sorted(s.value_counts().items())]\n",
    "def cstr(s):\n",
    "    return [k+\":\"+str(v) for k,v in sorted(s.value_counts().items())]"
   ]
  },
  {
   "cell_type": "code",
   "execution_count": 5,
   "metadata": {},
   "outputs": [],
   "source": [
    "# Структура данных Decision Tree\n",
    "tree = {\n",
    "    \"name\":\"decision tree \"+df0.columns[-1]+\" \"+str(cstr(df0.iloc[:,-1])),\n",
    "    \"df\":df0,\n",
    "    \"edges\":[],\n",
    "}\n",
    "# Генерацию дерева, у узлов которого могут быть ветви, сохраняем в open\n",
    "open = [tree]\n",
    "#entropy = lambda s:-reduce(lambda x,y:x+y,map(lambda x:(x/len(s))*math.log2(x/len(s)),s.value_counts()))\n",
    "def h(x,s):\n",
    "    return (x/len(s))*math.log2(x/len(s))\n",
    "def summa(x,y):\n",
    "    return x+y\n",
    "def entropy(s,x,y):\n",
    "    return -reduce(summa(x,y),map(h(x),s.value_counts()))                            "
   ]
  },
  {
   "cell_type": "code",
   "execution_count": 7,
   "metadata": {},
   "outputs": [],
   "source": [
    "while(len(open)!=0):\n",
    "    # Вытаскиваем из массива open первый элемент и данные, хранящиеся в этом узле\n",
    "    n = open.pop(0)\n",
    "    df_n = n[\"df\"]\n",
    "    if 0==entropy(df_n.iloc[:,-1]):\n",
    "        continue\n",
    "    # Создаем переменную, в которую будем сохранять список значений атрибута с возможностью разветвления\n",
    "    attrs = {}\n",
    "    for attr in df_n.columns[:-1]:\n",
    "        attrs[attr] = {\"entropy\":0,\"dfs\":[],\"values\":[]}\n",
    "        for value in sorted(set(df_n[attr])):\n",
    "            # Фильтруем данные по значению атрибута и высчитываем энтропию, данные и значения, сохрнаяем\n",
    "            df_m = df_n.query(attr+\"=='\"+value+\"'\")\n",
    "            attrs[attr][\"entropy\"] += entropy(df_m.iloc[:,-1])*df_m.shape[0]/df_n.shape[0]\n",
    "            attrs[attr][\"dfs\"] += [df_m]\n",
    "            attrs[attr][\"values\"] += [value]\n",
    "        pass\n",
    "    pass\n",
    "    # Прерываем исследование узла без атрибутов\n",
    "    if len(attrs)==0:\n",
    "        continue\n",
    "    attr = min(attrs,key=lambda x:attrs[x][\"entropy\"])\n",
    "    # Добавляем каждое значение разветвленного атрибута и данные, полученные после разветвления, в наше дерево и в open.\n",
    "    for d,v in zip(attrs[attr][\"dfs\"],attrs[attr][\"values\"]):\n",
    "        m = {\"name\":attr+\"=\"+v,\"edges\":[],\"df\":d.drop(columns=attr)}\n",
    "        n[\"edges\"].append(m)\n",
    "        open.append(m)\n",
    "pass"
   ]
  },
  {
   "cell_type": "code",
   "execution_count": 31,
   "metadata": {},
   "outputs": [
    {
     "name": "stdout",
     "output_type": "stream",
     "text": [
      "        redactor smartphone     wine       OS   drink\n",
      "0        jupyter    android  nothing  windows  coffee\n",
      "1        pyсharm     iphone  nothing  windows  coffee\n",
      "2        pyсharm     iphone  nothing      mac     tea\n",
      "3            vim    android    white    linux     tea\n",
      "4   sublime_text     iphone  nothing    linux     tea\n",
      "5        vs_code     iphone  nothing    linux     tea\n",
      "6        vs_code    android    white      mac  coffee\n",
      "7        vs_code     iphone  nothing      mac  coffee\n",
      "8   sublime_text     iphone    white      mac     tea\n",
      "9        pyсharm    android      red  windows  coffee\n",
      "10           vim    android  nothing    linux     tea\n",
      "11  sublime_text     iphone      red    linux  coffee\n",
      "12       pyсharm     iphone      red      mac  coffee \n",
      "-------------\n"
     ]
    }
   ],
   "source": [
    "print(df0,\"\\n-------------\")"
   ]
  },
  {
   "cell_type": "code",
   "execution_count": 32,
   "metadata": {},
   "outputs": [
    {
     "name": "stdout",
     "output_type": "stream",
     "text": [
      "decision tree drink ['coffee:7', 'tea:6']\n",
      "  OS=linux\n",
      "    wine=nothing['tea:3']\n",
      "    wine=red['coffee:1']\n",
      "    wine=white['tea:1']\n",
      "  OS=mac\n",
      "    redactor=pyсharm\n",
      "      wine=nothing['tea:1']\n",
      "      wine=red['coffee:1']\n",
      "    redactor=sublime_text['tea:1']\n",
      "    redactor=vs_code['coffee:2']\n",
      "  OS=windows['coffee:3']\n",
      "\n"
     ]
    }
   ],
   "source": [
    "# Метод преобразования дерева в символы\n",
    "def tstr(tree,indent=\"\"):\n",
    "    # Если этот узел является листовым узлом выводим частотное распределение последнего столбца данных df\n",
    "    s = indent+tree[\"name\"]+str(cstr(tree[\"df\"].iloc[:,-1]) if len(tree[\"edges\"])==0 else \"\")+\"\\n\"\n",
    "    for e in tree[\"edges\"]:\n",
    "        s += tstr(e,indent+\"  \")\n",
    "        pass\n",
    "    return s\n",
    "# Выводим древо в его символьном представлении.\n",
    "print(tstr(tree))"
   ]
  }
 ],
 "metadata": {
  "kernelspec": {
   "display_name": "Python 3",
   "language": "python",
   "name": "python3"
  },
  "language_info": {
   "codemirror_mode": {
    "name": "ipython",
    "version": 3
   },
   "file_extension": ".py",
   "mimetype": "text/x-python",
   "name": "python",
   "nbconvert_exporter": "python",
   "pygments_lexer": "ipython3",
   "version": "3.8.5"
  }
 },
 "nbformat": 4,
 "nbformat_minor": 4
}
