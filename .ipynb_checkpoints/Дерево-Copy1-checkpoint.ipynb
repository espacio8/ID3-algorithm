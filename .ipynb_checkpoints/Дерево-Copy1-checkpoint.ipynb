{
 "cells": [
  {
   "cell_type": "code",
   "execution_count": 5,
   "metadata": {},
   "outputs": [],
   "source": [
    "import math\n",
    "import pandas as pd\n",
    "from functools import reduce\n",
    "\n",
    "# Дата сет\n",
    "dataset = pd.read_csv('drinks.csv',\n",
    "                    names=['name','redactor','smartphone','wine','OS','drink',])\n",
    "dataset=dataset.drop('name',axis=1)\n",
    "df0 = dataset"
   ]
  },
  {
   "cell_type": "code",
   "execution_count": 6,
   "metadata": {},
   "outputs": [],
   "source": [
    "# Лямбда-выражение для распределения значений, аргумент - pandas.Series, \n",
    "# возвращаемое значение - массив с количеством каждого из значений\n",
    "# Из вводных данных s с помощью value_counts() находим частоту каждого из значений, \n",
    "# и пока в нашем словаре есть элементы, будет работать цикл, запускаемый items().\n",
    "# Чтобы выходные данные не менялись с каждым запуском цикла, мы используем sorted, \n",
    "# который меняет порядок от большего к меньшему\n",
    "# В итоге, генерируется массив, содержащий строку из следующих компонентов: ключ (k) и значение (v).\n",
    "cstr = lambda s:[k+\":\"+str(v) for k,v in sorted(s.value_counts().items())]\n",
    "\n",
    "# Структура данных Decision Tree\n",
    "tree = {\n",
    "    # name: Название этого нода (узла)\n",
    "    \"name\":\"decision tree \"+df0.columns[-1]+\" \"+str(cstr(df0.iloc[:,-1])),\n",
    "    # df: Данные, связанные с этим нодом (узлом)\n",
    "    \"df\":df0,\n",
    "    # edges: Список ребер (ветвей), выходящих из этого узла, \n",
    "    # или пустой массив, если ниже нет листового узла.\n",
    "    \"edges\":[],\n",
    "}\n",
    "\n",
    "# Генерацию дерева, у узлов которого могут быть ветви, сохраняем в open\n",
    "open = [tree]\n",
    "\n",
    "# Лямба-выражение для вычесления энтропии. \n",
    "# Аргумент - pandas.Series、возвращаемое значение - число энтропии\n",
    "entropy = lambda s:-reduce(lambda x,y:x+y,map(lambda x:(x/len(s))*math.log2(x/len(s)),s.value_counts()))\n",
    "\n",
    "# Зацикливаем, пока open не станет пустым\n",
    "while(len(open)!=0):\n",
    "    # Вытаскиваем из массива open первый элемент,\n",
    "    # и вытаскиваем данные, хранящиеся в этом узле\n",
    "    n = open.pop(0)\n",
    "    df_n = n[\"df\"]\n",
    "\n",
    "    # В случае, если энтропия этого узла равна 0, мы больше не можем вырастить из него новые ветви\n",
    "    # поэтому прекращаем ветвление от этого узла\n",
    "    if 0==entropy(df_n.iloc[:,-1]):\n",
    "        continue\n",
    "    # Создаем переменную, в которую будем сохранять список значений атрибута с возможностью разветвления\n",
    "    attrs = {}\n",
    "    # Исследуем все атрибуты, кроме последнего столбца класса атрибутов\n",
    "    for attr in df_n.columns[:-1]:\n",
    "        # Создаем переменную, которая хранит значение энтропии при ветвлении с этим атрибутом,\n",
    "        # данные после разветвления и значение атрибута, который разветвляется.\n",
    "        attrs[attr] = {\"entropy\":0,\"dfs\":[],\"values\":[]}\n",
    "        # Исследуем все возможные значения этого атрибута. \n",
    "        # Кроме того, sorted предназначен для предотвращения изменения порядка массива, \n",
    "        # из которого были удалены повторяющиеся значения атрибутов, при каждом его выполнении.\n",
    "        for value in sorted(set(df_n[attr])):\n",
    "            # Фильтруем данные по значению атрибута\n",
    "            df_m = df_n.query(attr+\"=='\"+value+\"'\")\n",
    "            # Высчитываем энтропию, данные и значения сохрнаяем\n",
    "            attrs[attr][\"entropy\"] += entropy(df_m.iloc[:,-1])*df_m.shape[0]/df_n.shape[0]\n",
    "            attrs[attr][\"dfs\"] += [df_m]\n",
    "            attrs[attr][\"values\"] += [value]\n",
    "            pass\n",
    "        pass\n",
    "    # Если не осталось ни одного атрибута, значение которого можно разделить, \n",
    "    # прерываем исследование этого узла.\n",
    "    if len(attrs)==0:\n",
    "        continue\n",
    "    # Получаем атрибут с наименьшим значением энтропии\n",
    "    attr = min(attrs,key=lambda x:attrs[x][\"entropy\"])\n",
    "    # Добавляем каждое значение разветвленного атрибута\n",
    "    # и данные, полученные после разветвления, в наше дерево и в open.\n",
    "    for d,v in zip(attrs[attr][\"dfs\"],attrs[attr][\"values\"]):\n",
    "        m = {\"name\":attr+\"=\"+v,\"edges\":[],\"df\":d.drop(columns=attr)}\n",
    "        n[\"edges\"].append(m)\n",
    "        open.append(m)\n",
    "    pass"
   ]
  },
  {
   "cell_type": "code",
   "execution_count": 7,
   "metadata": {},
   "outputs": [
    {
     "name": "stdout",
     "output_type": "stream",
     "text": [
      "        redactor  smartphone     wine       OS  drink\n",
      "0       redactor  smartphone     wine       OS  drink\n",
      "1        jupyter     android  никакое  windows    yes\n",
      "2        pyсharm      iphone  никакое  windows    yes\n",
      "3        pyсharm      iphone  никакое      mac     no\n",
      "4            vim     android    белое    linux     no\n",
      "5   sublime_text      iphone  никакое    linux     no\n",
      "6        vs_code      iphone  никакое    linux     no\n",
      "7        vs_code     android    белое      mac    yes\n",
      "8        vs_code      iphone  никакое      mac    yes\n",
      "9   sublime_text      iphone    белое      mac     no\n",
      "10       pyсharm     android  красное  windows    yes\n",
      "11           vim     android  никакое    linux     no\n",
      "12  sublime_text      iphone  красное    linux    yes \n",
      "-------------\n"
     ]
    }
   ],
   "source": [
    "# Выводим дата сет\n",
    "print(df0,\"\\n-------------\")"
   ]
  },
  {
   "cell_type": "code",
   "execution_count": 8,
   "metadata": {},
   "outputs": [
    {
     "name": "stdout",
     "output_type": "stream",
     "text": [
      "decision tree drink ['drink:1', 'no:6', 'yes:6']\n",
      "  OS=OS['drink:1']\n",
      "  OS=linux\n",
      "    wine=белое['no:1']\n",
      "    wine=красное['yes:1']\n",
      "    wine=никакое['no:3']\n",
      "  OS=mac\n",
      "    redactor=pyсharm['no:1']\n",
      "    redactor=sublime_text['no:1']\n",
      "    redactor=vs_code['yes:2']\n",
      "  OS=windows['yes:3']\n",
      "\n"
     ]
    }
   ],
   "source": [
    "# Метод преобразования дерева в символы, аргуметы - tree:структура данных древа,\n",
    "# indent:присоединяймый к дочернему узлу indent,\n",
    "# Возвращаемое значение - символьное представление древа.\n",
    "# Этот метод вызывается рекурсивно для преобразования всех данных в дереве в символы.\n",
    "def tstr(tree,indent=\"\"):\n",
    "    # Создаем символьное представление этого узла.\n",
    "    # Если этот узел является листовым узлом (количество элементов в массиве ребер равно 0), \n",
    "    # частотное распределение последнего столбца данных df, связанных с деревом, преобразуется в символы.\n",
    "    s = indent+tree[\"name\"]+str(cstr(tree[\"df\"].iloc[:,-1]) if len(tree[\"edges\"])==0 else \"\")+\"\\n\"\n",
    "    # Зацикливаем все ветви этого узла.\n",
    "    for e in tree[\"edges\"]:\n",
    "        # Добавляем символьное представление дочернего узла к символьному представлению родительского узла.\n",
    "        # Добавляем еще больше символов к indent этого узла.\n",
    "        s += tstr(e,indent+\"  \")\n",
    "        pass\n",
    "    return s\n",
    "# Выводим древо в его символьном представлении.\n",
    "print(tstr(tree))"
   ]
  }
 ],
 "metadata": {
  "kernelspec": {
   "display_name": "Python 3",
   "language": "python",
   "name": "python3"
  },
  "language_info": {
   "codemirror_mode": {
    "name": "ipython",
    "version": 3
   },
   "file_extension": ".py",
   "mimetype": "text/x-python",
   "name": "python",
   "nbconvert_exporter": "python",
   "pygments_lexer": "ipython3",
   "version": "3.8.5"
  }
 },
 "nbformat": 4,
 "nbformat_minor": 4
}
